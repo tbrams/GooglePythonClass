{
 "cells": [
  {
   "cell_type": "code",
   "execution_count": 67,
   "metadata": {
    "collapsed": false
   },
   "outputs": [
    {
     "name": "stdout",
     "output_type": "stream",
     "text": [
      "the 1605\n",
      "and 766\n",
      "to 706\n",
      "a 614\n",
      "she 518\n",
      "of 493\n",
      "said 421\n",
      "it 362\n",
      "in 352\n",
      "was 333\n",
      "you 265\n",
      "i 261\n",
      "as 249\n",
      "that 222\n",
      "alice 221\n",
      "her 208\n",
      "at 206\n",
      "had 176\n",
      "with 169\n",
      "all 155\n"
     ]
    }
   ],
   "source": [
    "filename1='./exercises/basic/small.txt'\n",
    "filename2='./exercises/basic/alice.txt'\n",
    "\n",
    "def get_words(fn):\n",
    "    words={}\n",
    "    \n",
    "    f=open(fn, 'r')\n",
    "    for line in f:\n",
    "        new_words=line.split()\n",
    "        for word in new_words:\n",
    "            if word.lower() in words:\n",
    "                words[word.lower()]+=1\n",
    "            else:\n",
    "                words[word.lower()]=1\n",
    "    f.close()\n",
    "    return words\n",
    "    \n",
    "\n",
    "def print_words(fn):\n",
    "    words=get_words(fn)\n",
    "    for word in sorted(words):\n",
    "        print word, words[word]\n",
    "    \n",
    "def top_words(fn):\n",
    "    words=get_words(fn)\n",
    "    for word in sorted(words, key=words.get, reverse=True)[:20]:\n",
    "        print word, words[word]\n",
    "\n",
    "top_words(filename2)"
   ]
  },
  {
   "cell_type": "code",
   "execution_count": 9,
   "metadata": {
    "collapsed": false
   },
   "outputs": [
    {
     "data": {
      "text/plain": [
       "'abc'"
      ]
     },
     "execution_count": 9,
     "metadata": {},
     "output_type": "execute_result"
    }
   ],
   "source": [
    "mystr=\"Abc\"\n",
    "mystr.lower()\n"
   ]
  },
  {
   "cell_type": "code",
   "execution_count": null,
   "metadata": {
    "collapsed": true
   },
   "outputs": [],
   "source": []
  }
 ],
 "metadata": {
  "kernelspec": {
   "display_name": "Python 2",
   "language": "python",
   "name": "python2"
  },
  "language_info": {
   "codemirror_mode": {
    "name": "ipython",
    "version": 2
   },
   "file_extension": ".py",
   "mimetype": "text/x-python",
   "name": "python",
   "nbconvert_exporter": "python",
   "pygments_lexer": "ipython2",
   "version": "2.7.11"
  }
 },
 "nbformat": 4,
 "nbformat_minor": 0
}
